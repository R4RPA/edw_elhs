{
 "cells": [
  {
   "cell_type": "code",
   "execution_count": 1,
   "id": "e643a616",
   "metadata": {},
   "outputs": [
    {
     "name": "stdout",
     "output_type": "stream",
     "text": [
      "db_url mssql+pyodbc://PARTNERS\\jyr47:Hifiwifi@01@phsedw.partners.org:1433/Epic?driver=FreeTDS\n",
      "Connection to EDW database established successfully.\n",
      "db_url mssql+pyodbc://PARTNERS\\jyr47:Hifiwifi@01@PHSSQL2026.partners.org:1433/elhsdcc?driver=FreeTDS\n",
      "Connection to ELHS database established successfully.\n",
      "Testing basic query on ELHS database.\n",
      "DataFrame result from ELHS database:\n",
      "  TABLE_NAME\n",
      "0       test\n",
      "1      test2\n",
      "Raw data result from ELHS database:\n",
      "[('test',), ('test2',)]\n"
     ]
    }
   ],
   "source": [
    "from db import EdwDb, ElhsDb\n",
    "\n",
    "# Initialize database connections\n",
    "edw_db = EdwDb()\n",
    "elhs_db = ElhsDb()\n",
    "\n",
    "\n",
    "def test_basic_query(db, db_name):\n",
    "    \"\"\"Function to test basic queries\"\"\"\n",
    "    if db.engine:\n",
    "        print(f\"Testing basic query on {db_name} database.\")\n",
    "\n",
    "        # Example query: Select version or equivalent information\n",
    "        query = \"\"\"SELECT TABLE_NAME \n",
    "                    FROM INFORMATION_SCHEMA.TABLES\n",
    "                    WHERE TABLE_TYPE = 'BASE TABLE';\"\"\"\n",
    "\n",
    "        # Test fetching data as a DataFrame\n",
    "        df_result = db.query(query, dataframe=True)\n",
    "        if df_result is not None:\n",
    "            print(f\"DataFrame result from {db_name} database:\\n{df_result}\")\n",
    "        else:\n",
    "            print(f\"Failed to fetch DataFrame from {db_name} database.\")\n",
    "\n",
    "        # Test fetching data as raw data\n",
    "        raw_result = db.query(query)\n",
    "        if raw_result is not None:\n",
    "            print(f\"Raw data result from {db_name} database:\\n{raw_result}\")\n",
    "        else:\n",
    "            print(f\"Failed to fetch raw data from {db_name} database.\")\n",
    "    else:\n",
    "        print(f\"Connection to {db_name} database failed.\")\n",
    "\n",
    "# Test basic queries on both databases\n",
    "#test_basic_query(edw_db, \"EDW\")\n",
    "test_basic_query(elhs_db, \"ELHS\")\n"
   ]
  },
  {
   "cell_type": "code",
   "execution_count": null,
   "id": "735cd7e1",
   "metadata": {},
   "outputs": [],
   "source": []
  },
  {
   "cell_type": "code",
   "execution_count": null,
   "id": "e87fba92",
   "metadata": {},
   "outputs": [],
   "source": []
  }
 ],
 "metadata": {
  "kernelspec": {
   "display_name": "Python 3",
   "language": "python",
   "name": "python3"
  },
  "language_info": {
   "codemirror_mode": {
    "name": "ipython",
    "version": 3
   },
   "file_extension": ".py",
   "mimetype": "text/x-python",
   "name": "python",
   "nbconvert_exporter": "python",
   "pygments_lexer": "ipython3",
   "version": "3.6.15"
  }
 },
 "nbformat": 4,
 "nbformat_minor": 5
}
